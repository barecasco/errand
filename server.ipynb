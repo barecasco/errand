{
 "cells": [
  {
   "cell_type": "markdown",
   "metadata": {},
   "source": [
    "## API Design"
   ]
  },
  {
   "cell_type": "code",
   "execution_count": 7,
   "metadata": {},
   "outputs": [
    {
     "name": "stdout",
     "output_type": "stream",
     "text": [
      "Overwriting server.py\n"
     ]
    }
   ],
   "source": [
    "%%writefile server.py\n",
    "\n",
    "import Antenna as ant\n",
    "import os\n",
    "import json\n",
    "from flask import Flask, redirect, url_for, request, render_template\n",
    "from werkzeug.utils import secure_filename\n",
    "\n",
    "\n",
    "UPLOAD_FOLDER = './kml'\n",
    "ALLOWED_EXTENSIONS = set(['kml'])\n",
    "\n",
    "app = Flask(\"agra\")\n",
    "app.config['UPLOAD_FOLDER'] = UPLOAD_FOLDER\n",
    "app.config['ENV'] = 'development'\n",
    "app.config['DEBUG'] = True\n",
    "app.config['TESTING'] = True\n",
    "\n",
    "# ----------------------- web services\n",
    "def compute_from_kml(path,filename):\n",
    "    csvfile = './csv/'+ filename + \".csv\"\n",
    "    ant.transform_kml_to_csv(path, csvfile, filename)\n",
    "    soldf = ant.request_best_route(csvfile, filename)    \n",
    "    # todo :erase kml and csv path after use\n",
    "    return(soldf.to_json())\n",
    "\n",
    "@app.route('/svc/kml', methods = ['GET', 'POST'])\n",
    "def svc_process_kml():\n",
    "    if request.method == 'POST':\n",
    "        f = request.files['file']\n",
    "        filename = secure_filename(f.filename)\n",
    "        path = os.path.join(app.config['UPLOAD_FOLDER'], filename)\n",
    "        f.save(path)\n",
    "        return(compute_from_kml(path, filename))\n",
    "    \n",
    "    \n",
    "# ----------------------- gui services\n",
    "def render_from_kml(path,filename):\n",
    "    csvfile = './csv/'+ filename + \".csv\"\n",
    "    ant.transform_kml_to_csv(path, csvfile, filename)\n",
    "    df = ant.request_best_route(csvfile, filename)\n",
    "    js = json.loads(df.to_json())\n",
    "    return( \n",
    "        render_template(\n",
    "            'result.html', \n",
    "            stamps = js['stamp'],\n",
    "            locs = js['loc'],\n",
    "            lats = js['lat'],\n",
    "            lons = js['lon'],\n",
    "            rowkeys = [str(i) for i in range(len(js['stamp']))]\n",
    "        )\n",
    "    )\n",
    "\n",
    "@app.route('/gui/kml/process', methods = ['GET', 'POST'])\n",
    "def gui_process_kml():\n",
    "    if request.method == 'POST':\n",
    "        f = request.files['file']\n",
    "        filename = secure_filename(f.filename)\n",
    "        path = os.path.join(app.config['UPLOAD_FOLDER'], filename)\n",
    "        f.save(path)\n",
    "        return(render_from_kml(path, filename))\n",
    "\n",
    "@app.route('/gui/kml')\n",
    "def query_file():\n",
    "    return render_template('upload.html')\n",
    "\n",
    "@app.route('/gui/form')\n",
    "def query_form():\n",
    "    return render_template('form.html')\n",
    "\n",
    "@app.route('/gui/json/coordinates', methods = ['GET','POST'])\n",
    "def render_from_json_coordinates():\n",
    "    filename = 'mawar'\n",
    "    csvfile = './csv/'+ filename + \".csv\"\n",
    "    if request.method == 'POST':\n",
    "        js = request.get_json()\n",
    "        ant.transform_list_to_csv(js['coordinates'], csvfile, filename)\n",
    "        df = ant.request_best_route(csvfile, filename)\n",
    "        js = json.loads(df.to_json())\n",
    "        return(\n",
    "            render_template(\n",
    "                'result.html', \n",
    "                stamps = js['stamp'],\n",
    "                locs = js['loc'],\n",
    "                lats = js['lat'],\n",
    "                lons = js['lon'],\n",
    "                rowkeys = [str(i) for i in range(len(js['stamp']))]\n",
    "            )\n",
    "        )        \n",
    "app.run()\n"
   ]
  },
  {
   "cell_type": "code",
   "execution_count": 22,
   "metadata": {},
   "outputs": [
    {
     "name": "stdout",
     "output_type": "stream",
     "text": [
      "Overwriting templates/upload.html\n"
     ]
    }
   ],
   "source": [
    "%%writefile templates/upload.html\n",
    "<html>\n",
    "    <body>\n",
    "    <h1>Submit KML File:</h1>\n",
    "    <form action = \"http://localhost:5000/uploader\" method = \"POST\" \n",
    "        enctype = \"multipart/form-data\">\n",
    "        <input type = \"file\" name = \"file\" />\n",
    "        <input type = \"submit\"/>\n",
    "    </form>\n",
    "   </body>\n",
    "</html>"
   ]
  },
  {
   "cell_type": "code",
   "execution_count": 14,
   "metadata": {},
   "outputs": [
    {
     "name": "stdout",
     "output_type": "stream",
     "text": [
      "Time Table:\n",
      "\n",
      " [[ 0 11  9 16 13]\n",
      " [ 0  0  8  8  9]\n",
      " [ 0  5  0  9  9]\n",
      " [ 0 10  9  0  7]\n",
      " [ 0  5  8  7  0]]\n",
      "\n",
      "SOLUTION FOUND ON ROUTE:\n",
      "---------------------\n",
      "\n",
      "depo Time(0) -> tgt2 Time(9) -> tgt1 Time(14) -> tgt3 Time(22) -> tgt4 Time(29) -> END\n",
      "Total time of all routes: 29min\n",
      "--- 0.0009868144989013672 seconds ---\n"
     ]
    }
   ],
   "source": [
    "import Antenna as ant\n",
    "import os\n",
    "import json\n",
    "\n",
    "df = ant.request_best_route('csv/mawar.csv', 'mawar')"
   ]
  }
 ],
 "metadata": {
  "kernelspec": {
   "display_name": "Python 3",
   "language": "python",
   "name": "python3"
  },
  "language_info": {
   "codemirror_mode": {
    "name": "ipython",
    "version": 3
   },
   "file_extension": ".py",
   "mimetype": "text/x-python",
   "name": "python",
   "nbconvert_exporter": "python",
   "pygments_lexer": "ipython3",
   "version": "3.6.9"
  }
 },
 "nbformat": 4,
 "nbformat_minor": 4
}
